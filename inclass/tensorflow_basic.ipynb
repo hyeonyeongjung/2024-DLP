{
  "nbformat": 4,
  "nbformat_minor": 0,
  "metadata": {
    "colab": {
      "provenance": [],
      "authorship_tag": "ABX9TyMsaH25SZ5Svabtykrsirsq",
      "include_colab_link": true
    },
    "kernelspec": {
      "name": "python3",
      "display_name": "Python 3"
    },
    "language_info": {
      "name": "python"
    }
  },
  "cells": [
    {
      "cell_type": "markdown",
      "metadata": {
        "id": "view-in-github",
        "colab_type": "text"
      },
      "source": [
        "<a href=\"https://colab.research.google.com/github/hyeonyeongjung/2024-DLP/blob/main/inclass/tensorflow_basic.ipynb\" target=\"_parent\"><img src=\"https://colab.research.google.com/assets/colab-badge.svg\" alt=\"Open In Colab\"/></a>"
      ]
    },
    {
      "cell_type": "markdown",
      "source": [
        "## 텐서플로 기본 pdf p.19까지"
      ],
      "metadata": {
        "id": "_vg-u4NOiySw"
      }
    },
    {
      "cell_type": "code",
      "execution_count": 1,
      "metadata": {
        "id": "QaOgJT_Aef1t",
        "colab": {
          "base_uri": "https://localhost:8080/",
          "height": 221
        },
        "outputId": "c9e8368f-6ebb-40fe-d8e5-619342312101"
      },
      "outputs": [
        {
          "output_type": "error",
          "ename": "AttributeError",
          "evalue": "module 'tensorflow' has no attribute 'placeholder'",
          "traceback": [
            "\u001b[0;31m---------------------------------------------------------------------------\u001b[0m",
            "\u001b[0;31mAttributeError\u001b[0m                            Traceback (most recent call last)",
            "\u001b[0;32m<ipython-input-1-c897300e4db0>\u001b[0m in \u001b[0;36m<cell line: 3>\u001b[0;34m()\u001b[0m\n\u001b[1;32m      1\u001b[0m \u001b[0;32mimport\u001b[0m \u001b[0mtensorflow\u001b[0m \u001b[0;32mas\u001b[0m \u001b[0mtf\u001b[0m\u001b[0;34m\u001b[0m\u001b[0;34m\u001b[0m\u001b[0m\n\u001b[1;32m      2\u001b[0m \u001b[0;34m\u001b[0m\u001b[0m\n\u001b[0;32m----> 3\u001b[0;31m \u001b[0ma\u001b[0m \u001b[0;34m=\u001b[0m \u001b[0mtf\u001b[0m\u001b[0;34m.\u001b[0m\u001b[0mplaceholder\u001b[0m\u001b[0;34m(\u001b[0m\u001b[0mtf\u001b[0m\u001b[0;34m.\u001b[0m\u001b[0mfloat32\u001b[0m\u001b[0;34m,\u001b[0m \u001b[0mshape\u001b[0m\u001b[0;34m=\u001b[0m\u001b[0;34m[\u001b[0m\u001b[0;36m3\u001b[0m\u001b[0;34m]\u001b[0m\u001b[0;34m)\u001b[0m\u001b[0;34m\u001b[0m\u001b[0;34m\u001b[0m\u001b[0m\n\u001b[0m\u001b[1;32m      4\u001b[0m \u001b[0mb\u001b[0m \u001b[0;34m=\u001b[0m \u001b[0mtf\u001b[0m\u001b[0;34m.\u001b[0m\u001b[0mconstant\u001b[0m\u001b[0;34m(\u001b[0m\u001b[0;34m[\u001b[0m\u001b[0;36m5\u001b[0m\u001b[0;34m,\u001b[0m \u001b[0;36m5\u001b[0m\u001b[0;34m,\u001b[0m \u001b[0;36m5\u001b[0m\u001b[0;34m]\u001b[0m\u001b[0;34m,\u001b[0m \u001b[0mtf\u001b[0m\u001b[0;34m.\u001b[0m\u001b[0mfloat32\u001b[0m\u001b[0;34m)\u001b[0m\u001b[0;34m\u001b[0m\u001b[0;34m\u001b[0m\u001b[0m\n\u001b[1;32m      5\u001b[0m \u001b[0mc\u001b[0m \u001b[0;34m=\u001b[0m \u001b[0ma\u001b[0m \u001b[0;34m+\u001b[0m \u001b[0mb\u001b[0m\u001b[0;34m\u001b[0m\u001b[0;34m\u001b[0m\u001b[0m\n",
            "\u001b[0;31mAttributeError\u001b[0m: module 'tensorflow' has no attribute 'placeholder'"
          ]
        }
      ],
      "source": [
        "import tensorflow as tf\n",
        "\n",
        "a = tf.placeholder(tf.float32, shape=[3])\n",
        "b = tf.constant([5, 5, 5], tf.float32)\n",
        "c = a + b\n",
        "\n",
        "with tf.Session() as sess:\n",
        "  print(sess.run(c, {a: [1, 2, 3]}))"
      ]
    },
    {
      "cell_type": "code",
      "source": [
        "import tensorflow.compat.v1 as tf\n",
        "tf.disable_v2_behavior()\n",
        "\n",
        "a = tf.placeholder(tf.int32, shape=3)\n",
        "b = tf.Variable(3)\n",
        "c = tf.add(a,b)\n",
        "\n",
        "init = tf.global_variables_initializer()\n",
        "\n",
        "with tf.compat.v1.Session() as sess:\n",
        "  sess.run(init)\n",
        "  print(sess.run(c, {a: [1, 2, 3]}))"
      ],
      "metadata": {
        "colab": {
          "base_uri": "https://localhost:8080/"
        },
        "id": "nhWWx-RQm76f",
        "outputId": "54c19397-0f02-46b1-ae1f-197216f62b78"
      },
      "execution_count": 4,
      "outputs": [
        {
          "output_type": "stream",
          "name": "stdout",
          "text": [
            "[4 5 6]\n"
          ]
        }
      ]
    },
    {
      "cell_type": "code",
      "source": [
        "import tensorflow.compat.v1 as tf\n",
        "tf.disable_v2_behavior()\n",
        "\n",
        "a = tf.placeholder(tf.int32)\n",
        "b = tf.placeholder(tf.int32)\n",
        "c = tf.multiply(a,b)\n",
        "\n",
        "init = tf.global_variables_initializer()\n",
        "\n",
        "with tf.compat.v1.Session() as sess:\n",
        "  sess.run(init)\n",
        "  print(sess.run(c, {a: [[1, 2, 3], [1, 2, 3], [1, 2, 3]], b: [[1, 2, 3], [1, 2, 3], [1, 2, 3]]}))"
      ],
      "metadata": {
        "colab": {
          "base_uri": "https://localhost:8080/"
        },
        "id": "hzIa3QfTq5BN",
        "outputId": "571cc5b6-0e2a-4fe1-afba-e81147556652"
      },
      "execution_count": 5,
      "outputs": [
        {
          "output_type": "stream",
          "name": "stdout",
          "text": [
            "[[1 4 9]\n",
            " [1 4 9]\n",
            " [1 4 9]]\n"
          ]
        }
      ]
    },
    {
      "cell_type": "code",
      "source": [
        "import tensorflow.compat.v1 as tf\n",
        "tf.disable_v2_behavior()\n",
        "\n",
        "a = tf.placeholder(tf.int32)\n",
        "b = tf.placeholder(tf.int32)\n",
        "c = tf.add(a,b)\n",
        "d = tf.subtract(a,b)\n",
        "e = tf.multiply(a,b)\n",
        "f = tf.div(a,b)\n",
        "\n",
        "init = tf.global_variables_initializer()\n",
        "\n",
        "with tf.compat.v1.Session() as sess:\n",
        "  sess.run(init)\n",
        "  print(\"Plus => \", (sess.run(c, {a: [[1, 2, 3], [1, 2, 3]], b: [[5, 2, 3], [1, 2, 3]]})))\n",
        "  print(\"Minus => \", (sess.run(d, {a: [[1, 2, 3], [1, 2, 3]], b: [[5, 2, 3], [1, 2, 3]]})))\n",
        "  print(\"Mutiply => \", (sess.run(e, {a: [[1, 2, 3], [1, 2, 3]], b: [[5, 2, 3], [1, 2, 3]]})))\n",
        "  print(\"Div => \", (sess.run(f, {a: [[1, 2, 3], [1, 2, 3]], b: [[5, 2, 3], [1, 2, 3]]})))\n"
      ],
      "metadata": {
        "colab": {
          "base_uri": "https://localhost:8080/"
        },
        "id": "Zmey4hbNs3mJ",
        "outputId": "7ae43adb-b361-42c9-da04-7c7378c64de6"
      },
      "execution_count": 22,
      "outputs": [
        {
          "output_type": "stream",
          "name": "stdout",
          "text": [
            "Plus =>  [[6 4 6]\n",
            " [2 4 6]]\n",
            "Minus =>  [[-4  0  0]\n",
            " [ 0  0  0]]\n",
            "Mutiply =>  [[5 4 9]\n",
            " [1 4 9]]\n",
            "Div =>  [[0 1 1]\n",
            " [1 1 1]]\n"
          ]
        }
      ]
    },
    {
      "cell_type": "code",
      "source": [
        "import tensorflow.compat.v1 as tf\n",
        "tf.disable_v2_behavior()\n",
        "\n",
        "a = tf.constant(2, name=\"tb_a\")\n",
        "b = tf.constant(3, name=\"tb_b\")\n",
        "x = tf.add(a, b, name=\"tb_x\")\n",
        "\n",
        "init = tf.global_variables_initializer()\n",
        "\n",
        "with tf.compat.v1.Session() as sess:\n",
        "  sess.run(init)\n",
        "  writer = tf.summary.FileWriter('./graphs', sess.graph)\n",
        "  print(sess.run(x))"
      ],
      "metadata": {
        "colab": {
          "base_uri": "https://localhost:8080/"
        },
        "id": "omn8DnIloO71",
        "outputId": "956650fa-c5cd-4812-cd57-9f575a2962ad"
      },
      "execution_count": 23,
      "outputs": [
        {
          "output_type": "stream",
          "name": "stdout",
          "text": [
            "5\n"
          ]
        }
      ]
    },
    {
      "cell_type": "code",
      "source": [
        "import tensorflow.compat.v1 as tf\n",
        "tf.disable_v2_behavior()\n",
        "\n",
        "x = tf.Variable(10, name=\"x\")\n",
        "y = tf.Variable(20, name=\"y\")\n",
        "z1 = tf.add(x, y, name=\"z1\")\n",
        "z2 = tf.multiply(x, y, name=\"z2\")\n",
        "z3 = tf.multiply(z1, z2, name=\"z3\")\n",
        "\n",
        "init = tf.global_variables_initializer()\n",
        "\n",
        "with tf.compat.v1.Session() as sess:\n",
        "  sess.run(init)\n",
        "  writer = tf.summary.FileWriter('./graphs', sess.graph)\n",
        "  print(sess.run(z3))\n",
        "\n",
        "writer.close()"
      ],
      "metadata": {
        "colab": {
          "base_uri": "https://localhost:8080/"
        },
        "id": "e33aDBwBgqP_",
        "outputId": "af8342b9-2f5a-4f34-f6ea-ddab98946ffc"
      },
      "execution_count": 24,
      "outputs": [
        {
          "output_type": "stream",
          "name": "stdout",
          "text": [
            "6000\n"
          ]
        }
      ]
    },
    {
      "cell_type": "code",
      "source": [
        "import tensorflow.compat.v1 as tf\n",
        "tf.disable_v2_behavior()\n",
        "\n",
        "a = tf.placeholder(tf.float32, shape=[3], name=\"a\")\n",
        "b = tf.constant([5, 5, 5], tf.float32, name=\"b\")\n",
        "c = a + b\n",
        "\n",
        "init = tf.global_variables_initializer()\n",
        "\n",
        "with tf.compat.v1.Session() as sess:\n",
        "  sess.run(init)\n",
        "  writer = tf.summary.FileWriter('./graphs', sess.graph)\n",
        "  print(sess.run(c, feed_dict={a: [1, 2, 3]}))\n",
        "\n",
        "writer.close()"
      ],
      "metadata": {
        "colab": {
          "base_uri": "https://localhost:8080/"
        },
        "id": "CXEGvS7Lh2UH",
        "outputId": "e9a38993-01e5-42dd-c1d1-dab30752fb4b"
      },
      "execution_count": 25,
      "outputs": [
        {
          "output_type": "stream",
          "name": "stdout",
          "text": [
            "[6. 7. 8.]\n"
          ]
        }
      ]
    },
    {
      "cell_type": "code",
      "source": [],
      "metadata": {
        "id": "Ni5uwvXgiOG8"
      },
      "execution_count": null,
      "outputs": []
    }
  ]
}